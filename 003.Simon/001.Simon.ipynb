{
 "cells": [
  {
   "cell_type": "markdown",
   "id": "6f26550e",
   "metadata": {},
   "source": [
    "참조 : https://qiskit.org/textbook/ch-algorithms/simon.html"
   ]
  },
  {
   "cell_type": "markdown",
   "id": "63fa8d41",
   "metadata": {},
   "source": [
    "### 문제정의\n",
    "- 함수 $f$는 1:1이거나 2:1임\n",
    "- 2:1의 경우 숨은 변수 $b$와 입력은 다음의 관계가 성립함\n",
    "  - 만약 $x_1 \\neq x_2, f(x_1) = f(x_2)$이면, $x_1 \\oplus x_2 = b$\n",
    "- 1:1의 경우 $b=\\mathbf{0}$, 2:1이라면 $b$의 값은?"
   ]
  },
  {
   "cell_type": "markdown",
   "id": "ebf7342f",
   "metadata": {},
   "source": [
    "![Simons' Algorithm](https://qiskit.org/textbook/ch-algorithms/images/simon_steps.png)"
   ]
  },
  {
   "cell_type": "markdown",
   "id": "d191ed8d",
   "metadata": {},
   "source": [
    "### $Q_f$의 정의\n",
    "$$\n",
    "|x\\rangle|a\\rangle \\rightarrow |x\\rangle|a \\oplus f(x)\\rangle\n",
    "$$\n",
    "\n",
    "$a = |0\\rangle = |00\\ldots0\\rangle$ 이면,\n",
    "$$\n",
    "|x\\rangle|0\\rangle \\rightarrow |x\\rangle|f(x)\\rangle\n",
    "$$\n"
   ]
  },
  {
   "cell_type": "markdown",
   "id": "eac9ad8a",
   "metadata": {},
   "source": [
    "$$\n",
    "\\begin{align}\\\\\n",
    "|\\psi_1\\rangle &= |0\\rangle^{\\otimes n}|0\\rangle^{\\otimes n}\\\\\n",
    "|\\psi_2\\rangle &= \\frac{1}{\\sqrt{2^n}} \\sum_{x=0} ^{2^n-1} |x\\rangle |0\\rangle^{\\otimes n} \\\\\n",
    "|\\psi_3\\rangle &= \\frac{1}{\\sqrt{2^n}} \\sum_{x=0} ^{2^n-1} |x\\rangle |f(x)\\rangle \\\\\n",
    "\\end{align}\n",
    "$$\n",
    "\n",
    "second register를 측정하면 어떤 $f(x)$ 값이 관측되고, 문제의 정의에 따라서 first register는 $x$와 $y=x \\oplus b$의 중첩상태이다.\n",
    "\n",
    "$$\n",
    "\\begin{align}\\\\\n",
    "|\\psi_4\\rangle &= \\frac{1}{\\sqrt{2}} \\big(|x\\rangle + |y\\rangle \\big) \\\\\n",
    "|\\psi_5\\rangle &= \\frac{1}{\\sqrt{2^{n+1}}} \\sum_{z=0}^{2^n-1} [(-1)^{x \\cdot z} + (-1)^{y \\cdot z}]|z\\rangle \\\\\n",
    "\\end{align}\n",
    "$$\n",
    "\n",
    "first register의 측정은 다음의 조건이 맞는 경우이다.\n",
    "$$\n",
    "\\begin{align}\\\\\n",
    "(-1)^{x \\cdot z} &= (-1)^{y \\cdot z}\n",
    "\\end{align}\n",
    "$$\n",
    "따라서\n",
    "$$\n",
    "\\begin{align}\\\\\n",
    "x \\cdot z &= y \\cdot z \\\\\n",
    "x \\cdot z &= (x \\oplus b) \\cdot z \\\\\n",
    "x \\cdot z &= x \\cdot z \\oplus b \\cdot z \\\\\n",
    "b \\cdot z &= 0 \\text{ (mod 2)} \\\\\n",
    "\\end{align}\n",
    "$$\n",
    "\n",
    "여러번 ($\\approx n$) 측정하여 아래의 방정식을 $b$에 대해 푼다.\n",
    "$$ \\begin{cases} b \\cdot z_1 = 0 \\\\ b \\cdot z_2 = 0 \\\\ \\quad \\vdots \\\\ b \\cdot z_n = 0 \\end{cases}$$"
   ]
  },
  {
   "cell_type": "code",
   "execution_count": 1,
   "id": "2276c2a4",
   "metadata": {},
   "outputs": [],
   "source": [
    "from qiskit import QuantumCircuit, execute, Aer\n",
    "from qiskit.visualization import plot_histogram"
   ]
  },
  {
   "cell_type": "code",
   "execution_count": 2,
   "id": "29bb4610",
   "metadata": {},
   "outputs": [],
   "source": [
    "s = '10'\n",
    "\n",
    "input_qubits = len(str(s))\n",
    "\n",
    "total_qubits = 2 * input_qubits\n",
    "\n",
    "qc = QuantumCircuit(total_qubits, input_qubits)"
   ]
  },
  {
   "cell_type": "code",
   "execution_count": 3,
   "id": "3ed51824",
   "metadata": {},
   "outputs": [
    {
     "data": {
      "image/png": "[encoded data removed]",
      "text/plain": [
       "<Figure size 568.197x325.08 with 1 Axes>"
      ]
     },
     "execution_count": 3,
     "metadata": {},
     "output_type": "execute_result"
    }
   ],
   "source": [
    "qc.h(range(input_qubits))\n",
    "qc.barrier()\n",
    "\n",
    "for idx in range(input_qubits):\n",
    "    if(s[idx] == '1'):\n",
    "        for count in range(input_qubits):\n",
    "            qc.cx(idx, input_qubits + count)\n",
    "qc.barrier()\n",
    "\n",
    "qc.h(range(input_qubits))\n",
    "qc.measure([0, 1], [0, 1])\n",
    "\n",
    "qc.draw('mpl')"
   ]
  },
  {
   "cell_type": "code",
   "execution_count": 4,
   "id": "b9fcbb25",
   "metadata": {},
   "outputs": [
    {
     "name": "stdout",
     "output_type": "stream",
     "text": [
      "counts: {'01': 487, '00': 513}\n"
     ]
    },
    {
     "data": {
      "image/png": "[encoded data removed]",
      "text/plain": [
       "<Figure size 504x360 with 1 Axes>"
      ]
     },
     "execution_count": 4,
     "metadata": {},
     "output_type": "execute_result"
    }
   ],
   "source": [
    "backend = Aer.get_backend('qasm_simulator')\n",
    "\n",
    "results = execute(qc, backend=backend, shots=1000).result()\n",
    "\n",
    "counts = results.get_counts(qc)\n",
    "print('counts:', counts)\n",
    "\n",
    "plot_histogram(counts)"
   ]
  },
  {
   "cell_type": "code",
   "execution_count": null,
   "id": "b35bb5bb",
   "metadata": {},
   "outputs": [],
   "source": []
  }
 ],
 "metadata": {
  "kernelspec": {
   "display_name": "Python 3 (ipykernel)",
   "language": "python",
   "name": "python3"
  },
  "language_info": {
   "codemirror_mode": {
    "name": "ipython",
    "version": 3
   },
   "file_extension": ".py",
   "mimetype": "text/x-python",
   "name": "python",
   "nbconvert_exporter": "python",
   "pygments_lexer": "ipython3",
   "version": "3.7.13"
  }
 },
 "nbformat": 4,
 "nbformat_minor": 5
}
