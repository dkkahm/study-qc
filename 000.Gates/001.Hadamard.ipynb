{
 "cells": [
  {
   "cell_type": "markdown",
   "id": "325100ba",
   "metadata": {},
   "source": [
    "### Hadamard"
   ]
  },
  {
   "cell_type": "markdown",
   "id": "8e02f012",
   "metadata": {},
   "source": [
    "2 Gate\n",
    "\n",
    "$$\n",
    "\\begin{aligned}\\\\\n",
    "H^{\\otimes 2} |00\\rangle &= \\frac{1}{2} \\displaystyle\\sum_{x=0} ^{3} |x\\rangle \\text{ } \\text{ (for } x = 00, 01, 02, 03 \\text{ )} \\\\\n",
    "H^{\\otimes 2} |01\\rangle &= \\frac{1}{2} \\big( |00\\rangle - |01\\rangle + |10\\rangle - |11\\rangle \\big) \\text{ (binary form)} \\\\\n",
    "&= \\frac{1}{2} \\big( |0\\rangle - |1\\rangle + |2\\rangle - |3\\rangle \\big) \\text{ (decimal form)} \\\\\n",
    "&= \\frac{1}{2} \\displaystyle\\sum_{x=0} ^{3} (-1)^{x} |x\\rangle \\\\\n",
    "\\end{aligned}\n",
    "$$\n",
    "\n",
    "n Gate\n",
    "\n",
    "$$\n",
    "\\begin{aligned}\\\\\n",
    "H^{\\otimes n}|000\\ldots000\\rangle &=  H^{\\otimes n} |0\\rangle ^{\\otimes n} = \\frac{1}{\\sqrt{2^n}} \\sum_{x=0} ^{2^n-1} |x\\rangle  \\text{ (모두 0인 경우)} \\\\\n",
    "H^{\\otimes n}|000\\ldots001\\rangle &=  H^{\\otimes n} |0\\rangle ^{\\otimes n-1} |1\\rangle = \\frac{1}{\\sqrt{2^n}} \\sum_{x=0} ^{2^n-1}  (-1)^x |x\\rangle \\text{ (나머지는 0이고 마지막만 1인 경우)}\\\\\n",
    "\\end{aligned}\n",
    "$$\n",
    "\n",
    "General\n",
    "\n",
    "$$\n",
    "\\begin{aligned}\\\\\n",
    "H^{\\otimes n}|x\\rangle &= \\frac{1}{\\sqrt{2^n}} \\sum_{y=0} ^{2^n-1} (-1)^{x \\cdot y} |y \\rangle \\text{ } ( \\text{ for } x \\cdot y = x_0 y_0 + x_1 y_1 + \\dots + x_{n-1} y_{n-1} )\\\\\n",
    "\\end{aligned}\n",
    "$$\n",
    "\n"
   ]
  },
  {
   "cell_type": "code",
   "execution_count": null,
   "id": "96b29a21",
   "metadata": {},
   "outputs": [],
   "source": []
  }
 ],
 "metadata": {
  "kernelspec": {
   "display_name": "Python 3 (ipykernel)",
   "language": "python",
   "name": "python3"
  },
  "language_info": {
   "codemirror_mode": {
    "name": "ipython",
    "version": 3
   },
   "file_extension": ".py",
   "mimetype": "text/x-python",
   "name": "python",
   "nbconvert_exporter": "python",
   "pygments_lexer": "ipython3",
   "version": "3.7.13"
  }
 },
 "nbformat": 4,
 "nbformat_minor": 5
}
