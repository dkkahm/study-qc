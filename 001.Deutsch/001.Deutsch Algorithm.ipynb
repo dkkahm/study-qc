{
 "cells": [
  {
   "cell_type": "code",
   "execution_count": 1,
   "id": "67e369ac",
   "metadata": {},
   "outputs": [],
   "source": [
    "from qiskit import *\n",
    "from qiskit.tools.visualization import plot_histogram\n",
    "%matplotlib inline"
   ]
  },
  {
   "cell_type": "code",
   "execution_count": 2,
   "id": "53026298",
   "metadata": {},
   "outputs": [],
   "source": [
    "circuit = QuantumCircuit(2, 1)"
   ]
  },
  {
   "cell_type": "code",
   "execution_count": 3,
   "id": "babb64e3",
   "metadata": {},
   "outputs": [
    {
     "data": {
      "text/plain": [
       "Instruction(name='oracle', num_qubits=2, num_clbits=0, params=[])"
      ]
     },
     "execution_count": 3,
     "metadata": {},
     "output_type": "execute_result"
    }
   ],
   "source": [
    "oracleCircuit = QuantumCircuit(2,name='oracle')\n",
    "oracleCircuit.i(0)\n",
    "oracleCircuit.i(1)\n",
    "oracleCircuit.to_gate()"
   ]
  },
  {
   "cell_type": "code",
   "execution_count": 4,
   "id": "bfb49daa",
   "metadata": {},
   "outputs": [
    {
     "data": {
      "image/png": "[encoded data removed]",
      "text/plain": [
       "<Figure size 628.252x204.68 with 1 Axes>"
      ]
     },
     "execution_count": 4,
     "metadata": {},
     "output_type": "execute_result"
    }
   ],
   "source": [
    "circuit.h(0)\n",
    "circuit.x(1)\n",
    "circuit.h(1)\n",
    "circuit.barrier()\n",
    "\n",
    "circuit.append(oracleCircuit, [0, 1])\n",
    "circuit.barrier()\n",
    "\n",
    "circuit.h(0)\n",
    "circuit.barrier()\n",
    "\n",
    "circuit.measure(0,0)\n",
    "\n",
    "circuit.draw(output='mpl')"
   ]
  },
  {
   "cell_type": "markdown",
   "id": "587aa386",
   "metadata": {},
   "source": [
    "$$\n",
    "\\begin{align}\n",
    "|\\psi_1> &= H |0> \\otimes ( H X |0> ) \\\\\n",
    "&= \\frac{1}{\\sqrt{2}}(|0> + |1>) \\otimes H |1> \\\\\n",
    "&= \\frac{1}{\\sqrt{2}}(|0> + |1>) \\otimes \\frac{1}{\\sqrt{2}} (|0> - |1>) \\\\\n",
    "&= |+> \\otimes |-> \\\\\n",
    "&= \\frac{1}{2}(|0> + |1>) \\otimes (|0> - |1>)\n",
    "\\end{align}\n",
    "$$"
   ]
  },
  {
   "cell_type": "markdown",
   "id": "7b2bc2c3",
   "metadata": {},
   "source": [
    "$$\n",
    "\\begin{align}\n",
    "|\\psi_2> &= \\frac{1}{2} (|0> + |1>) \\otimes (|0 \\oplus f(x) > - |1 \\oplus f(x) >) \\\\\n",
    "&= \\frac{1}{2} (|0> \\otimes |0 \\oplus f(x) > - |0> \\otimes |1 \\oplus f(x) > + |1> \\otimes |0 \\oplus f(x) > - |1> \\otimes |1 \\oplus f(x) >) \\\\\n",
    "&= \\frac{1}{2} (|0> \\otimes |0 \\oplus f(0) > - |0> \\otimes |1 \\oplus f(0) > + |1> \\otimes |0 \\oplus f(1) > - |1> \\otimes |1 \\oplus f(1) >) \\\\\n",
    "&= \\frac{1}{2} (|0> \\otimes |f(0) > - |0> \\otimes |1 \\oplus f(0) > + |1> \\otimes |f(1) > - |1> \\otimes |1 \\oplus f(1) >) \\\\\n",
    "\\end{align}\n",
    "$$"
   ]
  },
  {
   "cell_type": "markdown",
   "id": "4849de59",
   "metadata": {},
   "source": [
    "if $f(0) = f(1)$ (constant)\n",
    "\n",
    "$$\n",
    "\\begin{align} \\\\\n",
    "|\\psi_2> &= \\frac{1}{2} (|0> \\otimes |f(0) > - |0> \\otimes |1 \\oplus f(0) > + |1> \\otimes |f(1) > - |1> \\otimes |1 \\oplus f(1) >) \\\\\n",
    "&= \\frac{1}{2} (|0> \\otimes |f(0) > - |0> \\otimes |1 \\oplus f(0) > + |1> \\otimes |f(0) > - |1> \\otimes |1 \\oplus f(0) >) \\\\\n",
    "&= \\frac{1}{2} \\big( (|0> + |1>) \\otimes |f(0) > - (|0>  + |1>) \\otimes |1 \\oplus f(0) > ) \\big) \\\\\n",
    "&= \\frac{1}{2} \\big( (|0> + |1>) \\otimes (|f(0)> - |1 \\oplus f(0) > ) \\big) \\\\\n",
    "&= \\frac{1}{\\sqrt{2}} (|0> + |1>) \\otimes \\frac{1}{\\sqrt{2}} (|f(0)> - |1 \\oplus f(0) > ) \\\\\n",
    "\\\\\n",
    "|\\psi_3> &= \\frac{1}{\\sqrt{2}} \\bigg( \\frac{1}{\\sqrt{2}} \\big( (|0>  + |1>) + (|0> - |1> ) \\big) \\bigg) \\otimes \\frac{1}{\\sqrt{2}} (|f(0)> - |1 \\oplus f(0) > )\\\\\n",
    "&= \\frac{1}{2} ( 2|0> ) \\otimes \\frac{1}{\\sqrt{2}} (|f(0)> - |1 \\oplus f(0) > )\\\\\n",
    "&= |0> \\otimes \\frac{1}{\\sqrt{2}} (|f(0)> - |1 \\oplus f(0) > )\\\\\n",
    "\\end{align} \\\\\n",
    "$$"
   ]
  },
  {
   "cell_type": "markdown",
   "id": "a83a96a8",
   "metadata": {},
   "source": [
    "if $f(0) \\neq f(1)$ (balanced),\n",
    "$$\n",
    "f(0) = 1 \\oplus f(1) \\\\\n",
    "f(1) = 1 \\oplus f(0)\n",
    "$$\n",
    "\n",
    "$$\n",
    "\\begin{align} \\\\\n",
    "|\\psi_2> &= \\frac{1}{2} (|0> \\otimes |f(0) > - |0> \\otimes |1 \\oplus f(0) > + |1> \\otimes |f(1) > - |1> \\otimes |1 \\oplus f(1) >) \\\\\n",
    "&= \\frac{1}{2} (|0> \\otimes |f(0) > - |0> \\otimes |f(1) > + |1> \\otimes |f(1) > - |1> \\otimes |f(0) >) \\\\\n",
    "&= \\frac{1}{2} \\big( (|0> - |1>) \\otimes |f(0) > - (|0> - |1>) \\otimes |f(1)> ) \\big) \\\\\n",
    "&= \\frac{1}{2} \\big( (|0> - |1>) \\otimes (|f(0) > - |f(1)> ) \\big) \\\\\n",
    "&= \\frac{1}{\\sqrt{2}} (|0> - |1>) \\otimes \\frac{1}{\\sqrt{2}} (|f(0) > - |f(1)> ) \\\\\n",
    "\\\\\n",
    "|\\psi_3> &= \\frac{1}{\\sqrt{2}} \\bigg( \\frac{1}{\\sqrt{2}} \\big( (|0> + |1> ) - (|0> - |1>) \\big) \\bigg) \\otimes \\frac{1}{\\sqrt{2}} (|f(0) > - |f(1)> ) \\\\\n",
    "&= \\frac{1}{\\sqrt{2}} \\big( \\frac{1}{\\sqrt{2}} (|0> + |1> - |0> + |1>) \\bigg) \\otimes \\frac{1}{\\sqrt{2}} (|f(0) > - |f(1)> ) \\\\\n",
    "&= \\frac{1}{2} ( 2 |1> ) \\otimes \\frac{1}{\\sqrt{2}} (|f(0) > - |f(1)> ) \\\\\n",
    "&= |1> \\otimes \\frac{1}{\\sqrt{2}} (|f(0) > - |f(1)> ) \\\\\n",
    "\\end{align} \\\\\n",
    "$$"
   ]
  },
  {
   "cell_type": "code",
   "execution_count": null,
   "id": "1aea5aef",
   "metadata": {},
   "outputs": [],
   "source": []
  }
 ],
 "metadata": {
  "kernelspec": {
   "display_name": "Python 3 (ipykernel)",
   "language": "python",
   "name": "python3"
  },
  "language_info": {
   "codemirror_mode": {
    "name": "ipython",
    "version": 3
   },
   "file_extension": ".py",
   "mimetype": "text/x-python",
   "name": "python",
   "nbconvert_exporter": "python",
   "pygments_lexer": "ipython3",
   "version": "3.7.13"
  }
 },
 "nbformat": 4,
 "nbformat_minor": 5
}
