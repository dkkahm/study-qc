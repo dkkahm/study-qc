{
 "cells": [
  {
   "cell_type": "code",
   "execution_count": 1,
   "id": "f8a31ecb",
   "metadata": {},
   "outputs": [],
   "source": [
    "from qiskit import *\n",
    "from qiskit.tools.visualization import plot_histogram\n",
    "%matplotlib inline"
   ]
  },
  {
   "cell_type": "code",
   "execution_count": 5,
   "id": "d7b00ff2",
   "metadata": {},
   "outputs": [],
   "source": [
    "qc = QuantumCircuit(3, 2)"
   ]
  },
  {
   "cell_type": "code",
   "execution_count": 6,
   "id": "532ddcf4",
   "metadata": {},
   "outputs": [
    {
     "data": {
      "text/plain": [
       "Instruction(name='oracle', num_qubits=3, num_clbits=0, params=[])"
      ]
     },
     "execution_count": 6,
     "metadata": {},
     "output_type": "execute_result"
    }
   ],
   "source": [
    "oracleCircuit = QuantumCircuit(3,name='oracle')\n",
    "oracleCircuit.i([0, 1, 2])\n",
    "# oracleCircuit.i(1)\n",
    "# oracleCircuit.i(2)\n",
    "oracleCircuit.to_gate()"
   ]
  },
  {
   "cell_type": "code",
   "execution_count": 7,
   "id": "63c64b83",
   "metadata": {},
   "outputs": [
    {
     "data": {
      "image/png": "[encoded data removed]",
      "text/plain": [
       "<Figure size 688.597x264.88 with 1 Axes>"
      ]
     },
     "execution_count": 7,
     "metadata": {},
     "output_type": "execute_result"
    }
   ],
   "source": [
    "qc.h([0, 1])\n",
    "qc.x(2)\n",
    "qc.h(2)\n",
    "qc.barrier()\n",
    "\n",
    "qc.append(oracleCircuit, [0, 1, 2])\n",
    "qc.barrier()\n",
    "\n",
    "qc.h(0)\n",
    "qc.h(1)\n",
    "qc.barrier()\n",
    "\n",
    "qc.measure([0,1],[0,1])\n",
    "\n",
    "qc.draw('mpl')"
   ]
  },
  {
   "cell_type": "markdown",
   "id": "076cec6e",
   "metadata": {},
   "source": [
    "$$\n",
    "\\begin{align}\n",
    "|\\psi_1\\rangle &= H | 0\\rangle \\otimes H | 0 \\rangle \\otimes ( H X | 0 \\rangle ) \\\\\n",
    "&= \\frac{1}{\\sqrt{2}}(|0\\rangle + |1\\rangle) \\otimes \\frac{1}{\\sqrt{2}}(|0\\rangle + |1\\rangle) \\otimes H |1\\rangle \\\\\n",
    "&= \\frac{1}{\\sqrt{2}}(|0\\rangle + |1\\rangle) \\otimes \\frac{1}{\\sqrt{2}}(|0\\rangle + |1\\rangle) \\otimes \\frac{1}{\\sqrt{2}} (|0\\rangle - |1\\rangle) \\\\\n",
    "&= |+\\rangle \\otimes |+\\rangle \\otimes |-\\rangle \\\\\n",
    "&= \\frac{1}{2 \\sqrt{2}} (|00\\rangle + |01\\rangle + |10\\rangle + |11\\rangle) \\otimes (|0\\rangle - |1\\rangle)\n",
    "\\end{align}\n",
    "$$"
   ]
  },
  {
   "cell_type": "markdown",
   "id": "b1154f5f",
   "metadata": {},
   "source": [
    "$$\n",
    "\\begin{align}\n",
    "|\\psi_2\\rangle &= \\frac{1}{2 \\sqrt{2}} (|00\\rangle + |01\\rangle + |10\\rangle + |11\\rangle) \\otimes (|0 \\oplus f(x_0,x_1) \\rangle - |1 \\oplus f(x_0,x_1) \\rangle) \\\\\n",
    "&= \\frac{1}{2 \\sqrt{2}} \\bigg( \\\\\n",
    "    & |00 \\rangle \\otimes |0 \\oplus f(x_0,x_1) \\rangle - |00 \\rangle \\otimes |1 \\oplus f(x_0,x_1) \\rangle \\\\\n",
    "    &+ |01 \\rangle \\otimes |0 \\oplus f(x_0,x_1) \\rangle - |01 \\rangle \\otimes |1 \\oplus f(x_0,x_1) \\rangle \\\\\n",
    "    &+ |10 \\rangle \\otimes |0 \\oplus f(x_0,x_1) \\rangle - |10 \\rangle \\otimes |1 \\oplus f(x_0,x_1) \\rangle \\\\\n",
    "    &+ |11 \\rangle \\otimes |0 \\oplus f(x_0,x_1) \\rangle - |11 \\rangle \\otimes |1 \\oplus f(x_0,x_1) \\rangle\n",
    "\\bigg) \\\\\n",
    "&= \\frac{1}{2 \\sqrt{2}} \\bigg( \\\\\n",
    "    & |00 \\rangle \\otimes |f(x_0,x_1) \\rangle - |00 \\rangle \\otimes |1 \\oplus f(x_0,x_1) \\rangle \\\\\n",
    "    &+ |01 \\rangle \\otimes |f(x_0,x_1) \\rangle - |01 \\rangle \\otimes |1 \\oplus f(x_0,x_1) \\rangle \\\\\n",
    "    &+ |10 \\rangle \\otimes |f(x_0,x_1) \\rangle - |10 \\rangle \\otimes |1 \\oplus f(x_0,x_1) \\rangle \\\\\n",
    "    &+ |11 \\rangle \\otimes |f(x_0,x_1) \\rangle - |11 \\rangle \\otimes |1 \\oplus f(x_0,x_1) \\rangle\n",
    "\\bigg) \\\\\n",
    "&= \\frac{1}{2 \\sqrt{2}} \\bigg( \\\\\n",
    "    & |00 \\rangle \\otimes |f(0,0) \\rangle - |00 \\rangle \\otimes |1 \\oplus f(0,0) \\rangle \\\\\n",
    "    &+ |01 \\rangle \\otimes |f(0,1) \\rangle - |01 \\rangle \\otimes |1 \\oplus f(0,1) \\rangle \\\\\n",
    "    &+ |10 \\rangle \\otimes |f(1,0) \\rangle - |10 \\rangle \\otimes |1 \\oplus f(1,0) \\rangle \\\\\n",
    "    &+ |11 \\rangle \\otimes |f(1,1) \\rangle - |11 \\rangle \\otimes |1 \\oplus f(1,1) \\rangle\n",
    "\\bigg) \\\\\n",
    "\\end{align}\n",
    "$$"
   ]
  },
  {
   "cell_type": "markdown",
   "id": "691391e2",
   "metadata": {},
   "source": [
    "### Constant"
   ]
  },
  {
   "cell_type": "markdown",
   "id": "015380b2",
   "metadata": {},
   "source": [
    "if $f(x_0, x_1) = f(0, 0), \\forall x_0, x_1$ (constant)\n",
    "\n",
    "$$\n",
    "\\begin{align} \\\\\n",
    "|\\psi_2\\rangle &= \\frac{1}{2 \\sqrt{2}} \\bigg( \\\\\n",
    "    & |00 \\rangle \\otimes |f(0,0) \\rangle - |00 \\rangle \\otimes |1 \\oplus f(0,0) \\rangle \\\\\n",
    "    &+ |01 \\rangle \\otimes |f(0,1) \\rangle - |01 \\rangle \\otimes |1 \\oplus f(0,1) \\rangle \\\\\n",
    "    &+ |10 \\rangle \\otimes |f(1,0) \\rangle - |10 \\rangle \\otimes |1 \\oplus f(1,0) \\rangle \\\\\n",
    "    &+ |11 \\rangle \\otimes |f(1,1) \\rangle - |11 \\rangle \\otimes |1 \\oplus f(1,1) \\rangle\n",
    "\\bigg) \\\\\n",
    "&= \\frac{1}{2 \\sqrt{2}} \\bigg( \n",
    "      \\big( |00 \\rangle + |01 \\rangle + |10 \\rangle + |11 \\rangle \\big) \\otimes |f(0,0) \\rangle\n",
    "    - \\big( |00 \\rangle + |01 \\rangle + |10 \\rangle + |11 \\rangle \\big) \\otimes |1 \\oplus f(0,0) \\rangle\n",
    "\\bigg) \\\\\n",
    "&= \\frac{1}{2}        \\big( |00 \\rangle + |01 \\rangle + |10 \\rangle + |11 \\rangle \\big) \\otimes \n",
    "   \\frac{1}{\\sqrt{2}} \\big( |f(0,0) \\rangle - |1 \\oplus f(0,0) \\rangle \\big) \\\\\n",
    "&= \\frac{1}{\\sqrt{2}} \\big( |0 \\rangle + |1 \\rangle \\big) \\otimes\n",
    "   \\frac{1}{\\sqrt{2}} \\big( |0 \\rangle + |1 \\rangle \\big) \\otimes\n",
    "   \\frac{1}{\\sqrt{2}} \\big( |f(0,0) \\rangle - |1 \\oplus f(0,0) \\rangle \\big) \\\\\n",
    "\\\\\n",
    "|\\psi_3\\rangle &= |0\\rangle \\otimes |0\\rangle \\otimes\n",
    "   \\frac{1}{\\sqrt{2}} \\big( |f(0,0) \\rangle - |1 \\oplus f(0,0) \\rangle \\big) \\\\ \n",
    "\\end{align} \\\\\n",
    "$$"
   ]
  },
  {
   "cell_type": "markdown",
   "id": "d351e1ac",
   "metadata": {},
   "source": [
    "### Balanced"
   ]
  },
  {
   "cell_type": "markdown",
   "id": "c07b14c3",
   "metadata": {},
   "source": [
    "$\\exists f(x_{00}, x_{01}) \\neq f(x_{10}, x_{11})$, if $x_{00} \\neq x_{10}, x_{01} \\neq x_{11}$ and paired\n",
    "\n",
    "$$\n",
    "\\begin{align} \\\\\n",
    "f(x_{00},x_{01}) &= 1 \\oplus f(x_{10}, x_{11}) \\\\\n",
    "f(x_{10}, x_{11}) &= 1 \\oplus f(x_{00},x_{01}), \\text{ if } x_{00} \\neq x_{10}, x_{01} \\neq x_{11}\n",
    "\\end{align} \\\\\n",
    "$$\n",
    "\n",
    "$$\n",
    "\\begin{align} \\\\\n",
    "|\\psi_2\\rangle &= \\frac{1}{2 \\sqrt{2}} \\bigg( \\\\\n",
    "    & |00 \\rangle \\otimes |f(0,0) \\rangle - |00 \\rangle \\otimes |1 \\oplus f(0,0) \\rangle \\\\\n",
    "    &+ |01 \\rangle \\otimes |f(0,1) \\rangle - |01 \\rangle \\otimes |1 \\oplus f(0,1) \\rangle \\\\\n",
    "    &+ |10 \\rangle \\otimes |f(1,0) \\rangle - |10 \\rangle \\otimes |1 \\oplus f(1,0) \\rangle \\\\\n",
    "    &+ |11 \\rangle \\otimes |f(1,1) \\rangle - |11 \\rangle \\otimes |1 \\oplus f(1,1) \\rangle \n",
    "\\bigg) \\\\\n",
    "\\end{align} \\\\\n",
    "$$\n",
    "\n",
    "if $f(0,0) = f(0,1), f(1,0) = f(1,1), f(0,0) \\neq f(1,1)$,\n",
    "\n",
    "$$\n",
    "\\begin{align} \\\\\n",
    "|\\psi_2\\rangle &= \\frac{1}{2 \\sqrt{2}} \\bigg( \\\\\n",
    "    &  |00 \\rangle \\otimes |f(0,0) \\rangle - |00 \\rangle \\otimes |1 \\oplus f(0,0) \\rangle \\\\\n",
    "    &+ |01 \\rangle \\otimes |f(0,1) \\rangle - |01 \\rangle \\otimes |1 \\oplus f(0,1) \\rangle \\\\\n",
    "    &+ |10 \\rangle \\otimes |f(1,0) \\rangle - |10 \\rangle \\otimes |1 \\oplus f(1,0) \\rangle \\\\\n",
    "    &+ |11 \\rangle \\otimes |f(1,1) \\rangle - |11 \\rangle \\otimes |1 \\oplus f(1,1) \\rangle \n",
    "\\bigg) \\\\\n",
    "&= \\frac{1}{2 \\sqrt{2}} \\bigg( \\\\\n",
    "    &  |00 \\rangle \\otimes |f(0,0) \\rangle - |00 \\rangle \\otimes f(1,1) \\rangle \\\\\n",
    "    &+ |01 \\rangle \\otimes |f(0,0) \\rangle - |01 \\rangle \\otimes f(1,1) \\rangle \\\\\n",
    "    &+ |10 \\rangle \\otimes |f(1,1) \\rangle - |10 \\rangle \\otimes f(0,0) \\rangle \\\\\n",
    "    &+ |11 \\rangle \\otimes |f(1,1) \\rangle - |11 \\rangle \\otimes f(0,0) \\rangle\n",
    "\\bigg) \\\\\n",
    "&= \\frac{1}{2 \\sqrt{2}} \\bigg( \n",
    "      \\big( |00 \\rangle + |01 \\rangle - |10 \\rangle - |11 \\rangle \\big) \\otimes |f(0,0) \\rangle\n",
    "    - \\big( |00 \\rangle + |01 \\rangle - |10 \\rangle - |11 \\rangle \\big) \\otimes |f(1,1) \\rangle\n",
    "\\bigg) \\\\\n",
    "&= \\frac{1}{2 \\sqrt{2}} \\bigg(\n",
    "    \\big( |00 \\rangle + |01 \\rangle - |10 \\rangle - |11 \\rangle \\big) \\otimes\n",
    "    \\big( |f(0,0) \\rangle - |f(1,1) \\rangle \\big)\n",
    "\\bigg) \\\\\n",
    "&= \\frac{1}{2}        \\big( |00 \\rangle + |01 \\rangle - |10 \\rangle - |11 \\rangle \\big) \\otimes\n",
    "   \\frac{1}{\\sqrt{2}} \\big( |f(0,0) \\rangle - |f(1,1) \\rangle \\big) \\\\\n",
    "&= \\frac{1}{2}\n",
    "    \\big(\n",
    "        |0\\rangle \\otimes (|0\\rangle + |1\\rangle) - |1\\rangle \\otimes (|0\\rangle + |1\\rangle)\n",
    "    \\big)  \\otimes\n",
    "    \\frac{1}{\\sqrt{2}} \\big( |f(0,0) \\rangle - |f(1,1) \\rangle \\big) \\\\\n",
    "&=  \\frac{1}{\\sqrt{2}} \\big( |0\\rangle - |1\\rangle \\big) \\otimes\n",
    "    \\frac{1}{\\sqrt{2}} \\big( |0\\rangle + |1\\rangle \\big) \\otimes\n",
    "    \\frac{1}{\\sqrt{2}} \\big( |f(0,0) \\rangle - |f(1,1) \\rangle \\big) \\\\\n",
    "\\\\\n",
    "|\\psi_3\\rangle &= |1\\rangle \\otimes\n",
    "    |0\\rangle \\otimes\n",
    "    \\frac{1}{\\sqrt{2}} \\big( |f(0,0) \\rangle - |f(1,1) \\rangle \\big) \\\\\n",
    "\\end{align} \\\\\n",
    "$$"
   ]
  },
  {
   "cell_type": "markdown",
   "id": "8cc98318",
   "metadata": {},
   "source": [
    "# 좀 더 수학적인 방법으로 표현해보자\n",
    "\n",
    "참조 : https://qiskit.org/textbook/ch-algorithms/deutsch-jozsa.html"
   ]
  },
  {
   "cell_type": "markdown",
   "id": "33bf5031",
   "metadata": {},
   "source": [
    "![Deutsch-Jozsa Algorithm](./deutsch_steps.png)"
   ]
  },
  {
   "cell_type": "markdown",
   "id": "1e186967",
   "metadata": {},
   "source": [
    "$$\n",
    "\\begin{align} \\\\\n",
    "|\\psi_0\\rangle &= |0\\rangle ^{\\otimes n} |1\\rangle ^{\\otimes n} \\\\\n",
    "\\\\\n",
    "|\\psi_1\\rangle &= \\big( H^{\\otimes n} |0\\rangle^{\\otimes n} \\big) \\otimes H |1\\rangle \n",
    "= \\bigg( \\frac{1}{\\sqrt{2^n}} \\sum_{x=0} ^{2^n-1} |x\\rangle \\bigg) \\big( \\frac{|0\\rangle - |1\\rangle}{\\sqrt{2}} \\big)\n",
    "= \\bigg( \\frac{1}{\\sqrt{2^n}} \\sum_{x=0} ^{2^n-1} |x\\rangle \\bigg) |-\\rangle \\\\\n",
    "\\\\\n",
    "|\\psi_2\\rangle &= U_f | \\psi_1 \\rangle \\\\\n",
    "&= \\bigg( \\frac{1}{\\sqrt{2^n}} \\sum_{x=0} ^{2^n-1} |x\\rangle \\bigg) \\big( \\frac{|0 \\oplus f(x)\\rangle - |1 \\oplus f(x) \\rangle}{\\sqrt{2}} \\big) \\\\\n",
    "&= \\bigg( \\frac{1}{\\sqrt{2^n}} \\sum_{x=0} ^{2^n-1} |x\\rangle \\bigg) \\big( \\frac{|f(x)\\rangle - |1 \\oplus f(x) \\rangle}{\\sqrt{2}} \\big) \\\\\n",
    "\\text{if } f(x) = 0 \\\\\n",
    "|\\psi_2\\rangle &= \\bigg( \\frac{1}{\\sqrt{2^n}} \\sum_{x=0} ^{2^n-1} |x\\rangle \\bigg) \\big( \\frac{|0\\rangle - |1\\rangle}{\\sqrt{2}} \\big) \\\\\n",
    "&= \\bigg( \\frac{1}{\\sqrt{2^n}} \\sum_{x=0} ^{2^n-1} (-1)^{0} |x\\rangle \\bigg) \\big( \\frac{|0\\rangle - |1\\rangle}{\\sqrt{2}} \\big) \\\\\n",
    "\\text{if } f(x) = 1 \\\\\n",
    "|\\psi_2\\rangle &= \\bigg( \\frac{1}{\\sqrt{2^n}} \\sum_{x=0} ^{2^n-1} |x\\rangle \\bigg) \\big( - \\frac{|0\\rangle - |1\\rangle}{\\sqrt{2}} \\big) \\\\\n",
    "&= \\bigg( \\frac{1}{\\sqrt{2^n}} \\sum_{x=0} ^{2^n-1} (-1)^{1} |x\\rangle \\bigg) \\big(\\frac{|0\\rangle - |1\\rangle}{\\sqrt{2}} \\big) \\\\\n",
    "\\text{so } \\\\\n",
    "|\\psi_2\\rangle &= \\bigg( \\frac{1}{\\sqrt{2^n}} \\sum_{x=0} ^{2^n-1} (-1)^{f(x)} |x\\rangle \\bigg) \\big( \\frac{|0\\rangle - |1\\rangle}{\\sqrt{2}} \\big) \\\\\n",
    "&= \\frac{1}{\\sqrt{2^n}} \\sum_{x=0} ^{2^n-1} (-1)^{f(x)} |x\\rangle |-\\rangle \\\\\n",
    "\\\\\n",
    "|\\psi_3\\rangle &= \\big(H^{\\otimes n} \\otimes I \\big) |\\psi_2\\rangle \\\\\n",
    "&= \\frac{1}{\\sqrt{2^n}} \\sum_{x=0} ^{2^n-1} (-1)^{f(x)} \\frac{1}{\\sqrt{2^n}} \\sum_{z=0} ^{2^n-1} (-1)^{x \\cdot z} |z\\rangle |-\\rangle \\\\\n",
    "&= \\frac{1}{2^n} \\sum_{x=0} ^{2^n-1} (-1)^{f(x)} \\sum_{z=0} ^{2^n-1} (-1)^{x \\cdot z} |z\\rangle |-\\rangle \\\\\n",
    "&= \\frac{1}{2^n} \\sum_{z=0} ^{2^n-1} \\bigg( \\sum_{x=0} ^{2^n-1} (-1)^{f(x)} (-1)^{x\\cdot z} \\bigg) |z\\rangle |-\\rangle \\\\\n",
    "\\end{align} \\\\\n",
    "$$"
   ]
  },
  {
   "cell_type": "markdown",
   "id": "7373a14c",
   "metadata": {},
   "source": [
    "4단계에서 $|\\psi_3\\rangle$의 First Register가 $|0 \\rangle ^{\\otimes n}$일 확률을 측정해보자.\n",
    "\n",
    "$f(x)$가 constant인 경우,\n",
    "\n",
    "$(-1)^{f(x)}$ 은 $-1 또는 1$ 이다. 1이라고 가정하면 $\\sum_{x=0} ^{2^n-1} (-1)^{x \\cdot z}$는,\n",
    "$x, z$가 모두 0인 경우만 부호가 1이고, 다른 경우는 반은 1이고 반은 -1으로 서로 cancel out되어 0인 경우만 남게 되어,\n",
    "$|0 \\rangle ^{\\otimes n}$의 확률이 1이된다.\n",
    "\n",
    "$f(x)$가 balanced인 경우,\n",
    "\n",
    "문제의 정의에 따라서 $(-1)^{f(x)}$의 절반은 1이고, 나머지 절반은 -1이 되어, $z$가 0인 경우의 $\\sum_{x=0} ^{2^n-1} (-1)^{f(x)} (-1)^{x \\cdot z}$가 cancel out되어 확률이 0이된다."
   ]
  },
  {
   "cell_type": "code",
   "execution_count": null,
   "id": "92c99019",
   "metadata": {},
   "outputs": [],
   "source": []
  }
 ],
 "metadata": {
  "kernelspec": {
   "display_name": "Python 3 (ipykernel)",
   "language": "python",
   "name": "python3"
  },
  "language_info": {
   "codemirror_mode": {
    "name": "ipython",
    "version": 3
   },
   "file_extension": ".py",
   "mimetype": "text/x-python",
   "name": "python",
   "nbconvert_exporter": "python",
   "pygments_lexer": "ipython3",
   "version": "3.7.13"
  }
 },
 "nbformat": 4,
 "nbformat_minor": 5
}
