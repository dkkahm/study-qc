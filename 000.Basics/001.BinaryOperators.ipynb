{
 "cells": [
  {
   "cell_type": "markdown",
   "id": "30ffcfd3",
   "metadata": {},
   "source": [
    "### Inner Product and Inner Product Space for Binary Vector Space\n",
    "- 참조 : https://leimao.github.io/blog/Deutsch-Jozsa-Algorithm/\n",
    "\n",
    "$$\n",
    "\\begin{align}\n",
    "\\langle -, - \\rangle : \\{0,1\\}^n \\times \\{0,1\\}^n \\rightarrow \\{0,1\\}\n",
    "\\end{align}\n",
    "$$\n",
    "\n",
    "Given two binary vectors $\\mathbf{x}, \\mathbf{y} \\in \\{0,1\\}^n$, $\\mathbf{x} = \\{x_0, x_1, \\cdots, x_{n-1}\\}$ and $\\mathbf{y} = \\{y_0, y_1, \\cdots, y_{n-1}\\}$, the inner product of $\\mathbf{x}$ and $\\mathbf{y}$ is defined as\n",
    "$$\n",
    "\\begin{align}\\langle \\mathbf{x}, \\mathbf{y} \\rangle &= (x_0 \\wedge y_0) \\oplus (x_1 \\wedge y_1) \\oplus \\cdots \\oplus (x_{n-1} \\wedge y_{n-1}) \\\\\n",
    "&= \\bigoplus_{i=0}^{n-1} (x_i \\wedge y_i )<br>\\end{align}\n",
    "$$\n",
    "\n"
   ]
  },
  {
   "cell_type": "code",
   "execution_count": null,
   "id": "c85f25be",
   "metadata": {},
   "outputs": [],
   "source": []
  }
 ],
 "metadata": {
  "kernelspec": {
   "display_name": "Python 3",
   "language": "python",
   "name": "python3"
  },
  "language_info": {
   "codemirror_mode": {
    "name": "ipython",
    "version": 3
   },
   "file_extension": ".py",
   "mimetype": "text/x-python",
   "name": "python",
   "nbconvert_exporter": "python",
   "pygments_lexer": "ipython3",
   "version": "3.6.13"
  }
 },
 "nbformat": 4,
 "nbformat_minor": 5
}
