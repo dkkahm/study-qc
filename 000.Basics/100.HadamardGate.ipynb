{
 "cells": [
  {
   "cell_type": "markdown",
   "id": "325100ba",
   "metadata": {},
   "source": [
    "### Hadamard"
   ]
  },
  {
   "cell_type": "markdown",
   "id": "8e02f012",
   "metadata": {},
   "source": [
    "2 Gate\n",
    "\n",
    "$$\n",
    "\\begin{aligned}\\\\\n",
    "H^{\\otimes 2} |00\\rangle &= \\frac{1}{2} \\displaystyle\\sum_{x=0} ^{3} |x\\rangle \\text{ } \\text{ (for } x = 00, 01, 02, 03 \\text{ )} \\\\\n",
    "H^{\\otimes 2} |01\\rangle &= \\frac{1}{2} \\big( |00\\rangle - |01\\rangle + |10\\rangle - |11\\rangle \\big) \\text{ (binary form)} \\\\\n",
    "&= \\frac{1}{2} \\big( |0\\rangle - |1\\rangle + |2\\rangle - |3\\rangle \\big) \\text{ (decimal form)} \\\\\n",
    "&= \\frac{1}{2} \\displaystyle\\sum_{x=0} ^{3} (-1)^{x} |x\\rangle \\\\\n",
    "\\end{aligned}\n",
    "$$\n",
    "\n",
    "n Gate\n",
    "\n",
    "$$\n",
    "\\begin{aligned}\\\\\n",
    "H^{\\otimes n}|000\\ldots000\\rangle &=  H^{\\otimes n} |0\\rangle ^{\\otimes n} = \\frac{1}{\\sqrt{2^n}} \\sum_{x=0} ^{2^n-1} |x\\rangle  \\text{ (모두 0인 경우)} \\\\\n",
    "H^{\\otimes n}|000\\ldots001\\rangle &=  H^{\\otimes n} |0\\rangle ^{\\otimes n-1} |1\\rangle = \\frac{1}{\\sqrt{2^n}} \\sum_{x=0} ^{2^n-1}  (-1)^x |x\\rangle \\text{ (나머지는 0이고 마지막만 1인 경우)}\\\\\n",
    "\\end{aligned}\n",
    "$$\n",
    "\n",
    "General\n",
    "\n",
    "$$\n",
    "\\begin{aligned}\\\\\n",
    "H^{\\otimes n}|x\\rangle &= \\frac{1}{\\sqrt{2^n}} \\sum_{y=0} ^{2^n-1} (-1)^{x \\cdot y} |y \\rangle \\text{ } ( \\text{ for } x \\cdot y = x_0 y_0 + x_1 y_1 + \\dots + x_{n-1} y_{n-1} )\\\\\n",
    "\\end{aligned}\n",
    "$$\n",
    "\n"
   ]
  },
  {
   "cell_type": "markdown",
   "id": "5b52cdd6",
   "metadata": {},
   "source": [
    "참조 : https://leimao.github.io/blog/Deutsch-Jozsa-Algorithm/\n",
    "\n",
    "$$\n",
    "H^{\\otimes n}[\\mathbf{i}, \\mathbf{j}] = \\frac{1}{\\sqrt{2^n}} (-1)^{\\langle \\mathbf{i}, \\mathbf{j} \\rangle}\n",
    "$$\n",
    "where $\\mathbf{i}$ is the binary vector representation for row number $i$, and $\\mathbf{j}$ is the binary vector representation for column number $j$.\n",
    "\n",
    "To extract an arbitrary column $j$ from $H^{\\otimes {n}}$, we prepared a one-hot quantum system basic state vector $| \\mathbf{y} \\rangle = [y_0, y_1, \\cdots, y_{2^n-1}]^{\\top}$, where $y_j = 1$ and $y_k = 0$ for $k \\neq j$.\n",
    "$$\n",
    "\\begin{align}\n",
    "H^{\\otimes {n}}_{:,j} &= H^{\\otimes {n}} | \\mathbf{y} \\rangle \\\\\n",
    "&= H^{\\otimes n}[\\mathbf{0}, \\mathbf{j}] | \\mathbf{x}_0 \\rangle + H^{\\otimes n}[\\mathbf{1}, \\mathbf{j}] | \\mathbf{x}_1 \\rangle + \\cdots \\\\\n",
    "&\\qquad + H^{\\otimes n}[\\mathbf{2^n-1}, \\mathbf{j}] | \\mathbf{x}_{2^{n}-1} \\rangle \\\\\n",
    "&= \\frac{1}{\\sqrt{2^n}} (-1)^{\\langle \\mathbf{0}, \\mathbf{j} \\rangle} | \\mathbf{x}_0 \\rangle + \\frac{1}{\\sqrt{2^n}} (-1)^{\\langle \\mathbf{1}, \\mathbf{j} \\rangle} | \\mathbf{x}_1 \\rangle + \\cdots \\\\\n",
    "&\\qquad + \\frac{1}{\\sqrt{2^n}} (-1)^{\\langle \\mathbf{2^n-1}, \\mathbf{j} \\rangle} | \\mathbf{x}_{2^{n}-1} \\rangle \\\\\n",
    "&= \\frac{1}{\\sqrt{2^n}} \\sum_{i=0}^{2^n-1} (-1)^{\\langle \\mathbf{i}, \\mathbf{j} \\rangle} | \\mathbf{x}_i \\rangle\\\\\n",
    "\\end{align}\n",
    "$$\n",
    "where $| \\mathbf{x}_i \\rangle$ is a quantum system one-hot basic state vector,  $|\\mathbf{x}_i\\rangle = [x_0, x_1, \\cdots, x_{2^{n}-1}]^{\\top}$, where $x_i = 1$ and $x_k = 0$ for $k \\neq i$.\n",
    "Since $H^{\\otimes {n}}$ is unitary and $(H^{\\otimes {n}})^{-1} = H^{\\otimes {n}}$as we have discussed above,\n",
    "$$\n",
    "\\begin{align}\n",
    "H^{\\otimes {n}} \\Big( \\frac{1}{\\sqrt{2^n}} \\sum_{i=0}^{2^n-1} (-1)^{\\langle \\mathbf{i}, \\mathbf{j} \\rangle} | \\mathbf{x}_i \\rangle \\Big) &;= H^{\\otimes {n}} H^{\\otimes {n}} | \\mathbf{y} \\rangle \\\\\n",
    "&= I | \\mathbf{y} \\rangle \\\\\n",
    "&= | \\mathbf{y} \\rangle \\\\\n",
    "\\end{align}\n",
    "$$\n",
    "For example, if $j = 0$, $| \\mathbf{y} \\rangle = [\\underbrace{1, 0, 0, \\cdots, 0}_{2^n} ]^{\\top} = | \\mathbf{0} \\rangle$,\n",
    "$$\n",
    "\\begin{align}\n",
    "H^{\\otimes {n}} \\Big( \\frac{1}{\\sqrt{2^n}} \\sum_{i=0}^{2^n-1} | \\mathbf{x}_i \\rangle \\Big) &=\n",
    "H^{\\otimes {n}} \\Big( \\frac{1}{\\sqrt{2^n}} \\sum_{i=0}^{2^n-1} (-1)^{0} | \\mathbf{x}_i \\rangle \\Big) \\\\\n",
    "&= H^{\\otimes {n}} \\Big( \\frac{1}{\\sqrt{2^n}} \\sum_{i=0}^{2^n-1} (-1)^{\\langle \\mathbf{i}, \\mathbf{0} \\rangle} | \\mathbf{x}_i \\rangle \\Big) \\\\\n",
    "&= H^{\\otimes {n}} H^{\\otimes {n}} | \\mathbf{0} \\rangle \\\\\n",
    "&= I | \\mathbf{0} \\rangle \\\\\n",
    "&= | \\mathbf{0} \\rangle \\\\\n",
    "\\end{align}\n",
    "$$\n",
    "\n"
   ]
  },
  {
   "cell_type": "code",
   "execution_count": null,
   "id": "5f454032",
   "metadata": {},
   "outputs": [],
   "source": []
  }
 ],
 "metadata": {
  "kernelspec": {
   "display_name": "Python 3",
   "language": "python",
   "name": "python3"
  },
  "language_info": {
   "codemirror_mode": {
    "name": "ipython",
    "version": 3
   },
   "file_extension": ".py",
   "mimetype": "text/x-python",
   "name": "python",
   "nbconvert_exporter": "python",
   "pygments_lexer": "ipython3",
   "version": "3.6.13"
  }
 },
 "nbformat": 4,
 "nbformat_minor": 5
}
