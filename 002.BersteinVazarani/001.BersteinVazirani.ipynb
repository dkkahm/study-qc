{
 "cells": [
  {
   "cell_type": "markdown",
   "id": "0931d7fa",
   "metadata": {},
   "source": [
    "### Deutsch-Jozsa Algorithm의 특별한 경우\n",
    "$f(x) = a \\cdot x$"
   ]
  },
  {
   "cell_type": "markdown",
   "id": "42d22e08",
   "metadata": {},
   "source": [
    "$$\n",
    "\\begin{align} \\\\\n",
    "|\\psi_0\\rangle &= |0\\rangle ^{\\otimes n} |1\\rangle \\\\\n",
    "\\\\\n",
    "|\\psi_1\\rangle &= \\bigg( \\frac{1}{\\sqrt{2^n}} \\sum_{x=0} ^{2^n-1} |x\\rangle \\bigg) \\big( \\frac{|0\\rangle - |1\\rangle}{\\sqrt{2}} \\big)\n",
    "= \\frac{1}{\\sqrt{2^n}} \\sum_{x=0} ^{2^n-1} |x\\rangle |-\\rangle \\\\\n",
    "\\\\\n",
    "|\\psi_2\\rangle &= \\bigg( \\frac{1}{\\sqrt{2^n}} \\sum_{x=0} ^{2^n-1} (-1)^{a \\cdot x} |x\\rangle \\bigg) \\big( \\frac{|0\\rangle - |1\\rangle}{\\sqrt{2}} \\big) \\\\\n",
    "&= \\frac{1}{\\sqrt{2^n}} \\sum_{x=0} ^{2^n-1} (-1)^{a \\cdot x} |x\\rangle |-\\rangle \\\\\n",
    "&= H^{\\otimes n} |a\\rangle |-\\rangle \\text{ }\n",
    "\\bigg( \\because H^{\\otimes n}|x\\rangle = \\frac{1}{\\sqrt{2^n}} \\sum_{y=0} ^{2^n-1} (-1)^{x \\cdot y} |y \\rangle \\big) \\\\\n",
    "\\\\\n",
    "|\\psi_3\\rangle &= \\big(H^{\\otimes n} \\otimes I \\big) |\\psi_2\\rangle \\\\\n",
    "&= H^{\\otimes n} \\big( H^{\\otimes n} |a\\rangle \\big) I |-\\rangle \\\\\n",
    "&= \\big( H^{\\otimes n} H^{\\otimes n} \\big) |a\\rangle \\big) |-\\rangle \\\\\n",
    "&= |a\\rangle |-\\rangle \\\\\n",
    "\\end{align} \\\\\n",
    "$$"
   ]
  },
  {
   "cell_type": "code",
   "execution_count": null,
   "id": "7b0986c4",
   "metadata": {},
   "outputs": [],
   "source": []
  }
 ],
 "metadata": {
  "kernelspec": {
   "display_name": "Python 3",
   "language": "python",
   "name": "python3"
  },
  "language_info": {
   "codemirror_mode": {
    "name": "ipython",
    "version": 3
   },
   "file_extension": ".py",
   "mimetype": "text/x-python",
   "name": "python",
   "nbconvert_exporter": "python",
   "pygments_lexer": "ipython3",
   "version": "3.6.13"
  }
 },
 "nbformat": 4,
 "nbformat_minor": 5
}
