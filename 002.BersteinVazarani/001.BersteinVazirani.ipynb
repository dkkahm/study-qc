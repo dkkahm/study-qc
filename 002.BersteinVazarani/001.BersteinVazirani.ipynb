{
 "cells": [
  {
   "cell_type": "markdown",
   "id": "0931d7fa",
   "metadata": {},
   "source": [
    "### Deutsch-Jozsa Algorithm의 특별한 경우\n",
    "$f(x) = a \\cdot x$"
   ]
  },
  {
   "cell_type": "markdown",
   "id": "c56c0522",
   "metadata": {},
   "source": [
    "$$\n",
    "\\begin{align} \\\\\n",
    "|\\psi_0\\rangle &= |0\\rangle ^{\\otimes n} |1\\rangle ^{\\otimes n} \\\\\n",
    "\\\\\n",
    "|\\psi_1\\rangle &= \\bigg( \\frac{1}{\\sqrt{2^n}} \\sum_{x=0} ^{2^n-1} |x\\rangle \\bigg) \\big( \\frac{|0\\rangle - |1\\rangle}{\\sqrt{2}} \\big)\n",
    "= \\frac{1}{\\sqrt{2^n}} \\sum_{x=0} ^{2^n-1} |x\\rangle |-\\rangle \\\\\n",
    "\\\\\n",
    "|\\psi_2\\rangle &= \\bigg( \\frac{1}{\\sqrt{2^n}} \\sum_{x=0} ^{2^n-1} (-1)^{a \\cdot x} |x\\rangle \\bigg) \\big( \\frac{|0\\rangle - |1\\rangle}{\\sqrt{2}} \\big) \\\\\n",
    "&= \\frac{1}{\\sqrt{2^n}} \\sum_{x=0} ^{2^n-1} (-1)^{a \\cdot x} |x\\rangle |-\\rangle \\\\\n",
    "\\\\\n",
    "|\\psi_3\\rangle &= \\big(H^{\\otimes n} \\otimes I \\big) |\\psi_2\\rangle \\\\\n",
    "&= \\frac{1}{2^n} \\sum_{z=0} ^{2^n-1} \\bigg( \\sum_{x=0} ^{2^n-1} (-1)^{a \\cdot x} (-1)^{x\\cdot z} \\bigg) |z\\rangle |-\\rangle \\\\\n",
    "\\\\\n",
    "\\sum_{x=0} ^{2^n-1} (-1)^{a \\cdot x} (-1)^{x\\cdot z} &= c(z) 라 하면, \\\\\n",
    "c(z) &= \\sum_{x=0} ^{2^n-1} (-1)^{a \\cdot x} (-1)^{x\\cdot z} \\\\\n",
    "\\text{if } z = a \\\\\n",
    "c(a) &= \\sum_{x=0} ^{2^n-1} (-1)^{a \\cdot x} (-1)^{x \\cdot a} = \\sum_{x=0} ^{2^n-1} 1 = 2^n \\\\\n",
    "\\text{if } z \\neq a \\\\\n",
    "\\sum_{x=0} ^{2^n-1} (-1)^{a \\cdot x} (-1)^{x \\cdot z} \\text{의 절반은 1이고 절반은 -1이다.}\\\\\n",
    "\\text{(n=2 인 경우로 두고} \\\\\n",
    "\\text{x=0, x=1, x=2, x=3인 경우로 나눠 계산해서 총합을 구해보았다} \\\\\n",
    "\\text{다른 방법이 있을텐데...)} \\\\\n",
    "\\text{, 따라서} \\\\\n",
    "c(z) &= 0 \\\\\n",
    "\\end{align} \\\\\n",
    "$$"
   ]
  },
  {
   "cell_type": "code",
   "execution_count": null,
   "id": "a45c6387",
   "metadata": {},
   "outputs": [],
   "source": []
  }
 ],
 "metadata": {
  "kernelspec": {
   "display_name": "Python 3 (ipykernel)",
   "language": "python",
   "name": "python3"
  },
  "language_info": {
   "codemirror_mode": {
    "name": "ipython",
    "version": 3
   },
   "file_extension": ".py",
   "mimetype": "text/x-python",
   "name": "python",
   "nbconvert_exporter": "python",
   "pygments_lexer": "ipython3",
   "version": "3.7.13"
  }
 },
 "nbformat": 4,
 "nbformat_minor": 5
}
